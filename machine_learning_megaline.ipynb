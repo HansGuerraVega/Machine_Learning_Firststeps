{
 "cells": [
  {
   "cell_type": "markdown",
   "metadata": {},
   "source": [
    "# Content <a id='back'></a>\n",
    "\n",
    "* [Introduction](#intro)\n",
    "* [step 1. Data review.](#data_review)\n",
    "    * [First impressions](#data_review_conclusions)\n",
    "* [Step 2. Data preprocessing](#data_preprocessing)\n",
    "    * [2.1 Duplicate values](#duplicate_values)\n",
    "* [Step 3. Data Analysis](#data_analysis)\n",
    "    * [3.1 Segmentation of the source data into a training set, a validation set and a test set.](#segmentation)\n",
    "    * [3.2 Training different models with different hyperparameters](#training_models)\n",
    "    * [3.3 Finding the best model with the best hyperparameters](#best_mode)\n",
    "    * [3.3 Evaluating the best model with test set](#evaluation)\n",
    "* [Step 4. Step 4. Sanity check](#sanity_check)\n",
    "* [Conclusion](#end)"
   ]
  },
  {
   "cell_type": "markdown",
   "metadata": {},
   "source": [
    "# Introduction <a id='intro'></a>\n",
    "\n",
    "Mobile company Megaline is not happy that many of its customers are using legacy plans. They want to develop a model that can analyse customer behaviour and recommend one of Megaline's new plans: Smart or Ultra.\n",
    "\n",
    "They have behavioural data on subscribers who have already switched to the new plans (from the Statistical Data Analysis sprint project). For this classification task, a model will be created that will choose the correct plan.\n",
    "\n",
    "The goal is to develop a model with the highest possible accuracy. In this project, the accuracy threshold is sought around 0.75."
   ]
  },
  {
   "cell_type": "markdown",
   "metadata": {},
   "source": [
    "## Step 1. Data review. <a id='data_review'></a>"
   ]
  },
  {
   "cell_type": "code",
   "execution_count": 1,
   "metadata": {},
   "outputs": [],
   "source": [
    "# All libraries are loaded\n",
    "\n",
    "import pandas as pd\n",
    "from matplotlib import pyplot as plt\n",
    "from sklearn.tree import DecisionTreeClassifier\n",
    "from sklearn.ensemble import RandomForestClassifier\n",
    "from sklearn.linear_model import LogisticRegression\n",
    "from sklearn.metrics import accuracy_score\n",
    "from sklearn.model_selection import train_test_split, GridSearchCV\n",
    "from sklearn.metrics import mean_squared_error\n",
    "from sklearn.dummy import DummyClassifier"
   ]
  },
  {
   "cell_type": "markdown",
   "metadata": {},
   "source": [
    "### First impressions <a id='data_review_conclusions'></a>"
   ]
  },
  {
   "cell_type": "code",
   "execution_count": 2,
   "metadata": {},
   "outputs": [],
   "source": [
    "# Import data\n",
    "\n",
    "df = pd.read_csv('users_behavior.csv')"
   ]
  },
  {
   "cell_type": "code",
   "execution_count": 3,
   "metadata": {},
   "outputs": [
    {
     "name": "stdout",
     "output_type": "stream",
     "text": [
      "   calls  minutes  messages   mb_used  is_ultra\n",
      "0   40.0   311.90      83.0  19915.42         0\n",
      "1   85.0   516.75      56.0  22696.96         0\n",
      "2   77.0   467.66      86.0  21060.45         0\n",
      "3  106.0   745.53      81.0   8437.39         1\n",
      "4   66.0   418.74       1.0  14502.75         0\n",
      "<class 'pandas.core.frame.DataFrame'>\n",
      "RangeIndex: 3214 entries, 0 to 3213\n",
      "Data columns (total 5 columns):\n",
      " #   Column    Non-Null Count  Dtype  \n",
      "---  ------    --------------  -----  \n",
      " 0   calls     3214 non-null   float64\n",
      " 1   minutes   3214 non-null   float64\n",
      " 2   messages  3214 non-null   float64\n",
      " 3   mb_used   3214 non-null   float64\n",
      " 4   is_ultra  3214 non-null   int64  \n",
      "dtypes: float64(4), int64(1)\n",
      "memory usage: 125.7 KB\n"
     ]
    },
    {
     "data": {
      "text/html": [
       "<div>\n",
       "<style scoped>\n",
       "    .dataframe tbody tr th:only-of-type {\n",
       "        vertical-align: middle;\n",
       "    }\n",
       "\n",
       "    .dataframe tbody tr th {\n",
       "        vertical-align: top;\n",
       "    }\n",
       "\n",
       "    .dataframe thead th {\n",
       "        text-align: right;\n",
       "    }\n",
       "</style>\n",
       "<table border=\"1\" class=\"dataframe\">\n",
       "  <thead>\n",
       "    <tr style=\"text-align: right;\">\n",
       "      <th></th>\n",
       "      <th>calls</th>\n",
       "      <th>minutes</th>\n",
       "      <th>messages</th>\n",
       "      <th>mb_used</th>\n",
       "      <th>is_ultra</th>\n",
       "    </tr>\n",
       "  </thead>\n",
       "  <tbody>\n",
       "    <tr>\n",
       "      <th>count</th>\n",
       "      <td>3214.000000</td>\n",
       "      <td>3214.000000</td>\n",
       "      <td>3214.000000</td>\n",
       "      <td>3214.000000</td>\n",
       "      <td>3214.000000</td>\n",
       "    </tr>\n",
       "    <tr>\n",
       "      <th>mean</th>\n",
       "      <td>63.038892</td>\n",
       "      <td>438.208787</td>\n",
       "      <td>38.281269</td>\n",
       "      <td>17207.673836</td>\n",
       "      <td>0.306472</td>\n",
       "    </tr>\n",
       "    <tr>\n",
       "      <th>std</th>\n",
       "      <td>33.236368</td>\n",
       "      <td>234.569872</td>\n",
       "      <td>36.148326</td>\n",
       "      <td>7570.968246</td>\n",
       "      <td>0.461100</td>\n",
       "    </tr>\n",
       "    <tr>\n",
       "      <th>min</th>\n",
       "      <td>0.000000</td>\n",
       "      <td>0.000000</td>\n",
       "      <td>0.000000</td>\n",
       "      <td>0.000000</td>\n",
       "      <td>0.000000</td>\n",
       "    </tr>\n",
       "    <tr>\n",
       "      <th>25%</th>\n",
       "      <td>40.000000</td>\n",
       "      <td>274.575000</td>\n",
       "      <td>9.000000</td>\n",
       "      <td>12491.902500</td>\n",
       "      <td>0.000000</td>\n",
       "    </tr>\n",
       "    <tr>\n",
       "      <th>50%</th>\n",
       "      <td>62.000000</td>\n",
       "      <td>430.600000</td>\n",
       "      <td>30.000000</td>\n",
       "      <td>16943.235000</td>\n",
       "      <td>0.000000</td>\n",
       "    </tr>\n",
       "    <tr>\n",
       "      <th>75%</th>\n",
       "      <td>82.000000</td>\n",
       "      <td>571.927500</td>\n",
       "      <td>57.000000</td>\n",
       "      <td>21424.700000</td>\n",
       "      <td>1.000000</td>\n",
       "    </tr>\n",
       "    <tr>\n",
       "      <th>max</th>\n",
       "      <td>244.000000</td>\n",
       "      <td>1632.060000</td>\n",
       "      <td>224.000000</td>\n",
       "      <td>49745.730000</td>\n",
       "      <td>1.000000</td>\n",
       "    </tr>\n",
       "  </tbody>\n",
       "</table>\n",
       "</div>"
      ],
      "text/plain": [
       "             calls      minutes     messages       mb_used     is_ultra\n",
       "count  3214.000000  3214.000000  3214.000000   3214.000000  3214.000000\n",
       "mean     63.038892   438.208787    38.281269  17207.673836     0.306472\n",
       "std      33.236368   234.569872    36.148326   7570.968246     0.461100\n",
       "min       0.000000     0.000000     0.000000      0.000000     0.000000\n",
       "25%      40.000000   274.575000     9.000000  12491.902500     0.000000\n",
       "50%      62.000000   430.600000    30.000000  16943.235000     0.000000\n",
       "75%      82.000000   571.927500    57.000000  21424.700000     1.000000\n",
       "max     244.000000  1632.060000   224.000000  49745.730000     1.000000"
      ]
     },
     "execution_count": 3,
     "metadata": {},
     "output_type": "execute_result"
    }
   ],
   "source": [
    "# The data frame information and a sample of the data are printed\n",
    "\n",
    "display(df.head())\n",
    "df.info()\n",
    "df.describe()"
   ]
  },
  {
   "cell_type": "markdown",
   "metadata": {},
   "source": [
    "**Observations**\n",
    "1. There is not missing values in the data set.\n",
    "2. The data type is correct for the data set.\n",
    "3. It seems everything is correct and it is posible to continue with the other steps.\n",
    "4. The values returned by the describe() method are consistent"
   ]
  },
  {
   "cell_type": "markdown",
   "metadata": {},
   "source": [
    "## Step 2. Data preprocessing <a id='data_preprocessing'></a>"
   ]
  },
  {
   "cell_type": "markdown",
   "metadata": {},
   "source": [
    "### Duplicate Values <a id='duplicate_values'></a>"
   ]
  },
  {
   "cell_type": "code",
   "execution_count": 4,
   "metadata": {},
   "outputs": [
    {
     "name": "stdout",
     "output_type": "stream",
     "text": [
      "Duplicated values in df:\n",
      "Empty DataFrame\n",
      "Columns: [calls, minutes, messages, mb_used, is_ultra]\n",
      "Index: []\n"
     ]
    }
   ],
   "source": [
    "# Verify duplicated data\n",
    "\n",
    "print('Duplicated values in df:')\n",
    "print(df[df.duplicated()])"
   ]
  },
  {
   "cell_type": "markdown",
   "metadata": {},
   "source": [
    "**Observations**\n",
    "\n",
    "1. There are no duplicate values in \"df\", the consistency of the data was ensured so we can continue with the next steps.\n",
    "2. Although it has not been requested in this project, it would be good to standardize the data to have less differences and noise, this could surely improve the accuracy in the classification."
   ]
  },
  {
   "cell_type": "markdown",
   "metadata": {},
   "source": [
    "## Step 3. Data Analysis <a id='data_analysis'></a>"
   ]
  },
  {
   "cell_type": "markdown",
   "metadata": {},
   "source": [
    "### Segmentation of the source data into a training set, a validation set and a test set. <a id='segmentation'></a>"
   ]
  },
  {
   "cell_type": "code",
   "execution_count": 5,
   "metadata": {},
   "outputs": [],
   "source": [
    "# Split of data in train, validation and test\n",
    "\n",
    "# First, the data set is splited into 60% for training and 40% for validation and test\n",
    "df_train, df_prev = train_test_split(df, test_size=0.4, random_state=12345)\n",
    "# Now, df_prev is splited into 50% for validation and 50% for test\n",
    "df_valid, df_test = train_test_split(df_prev, test_size=0.5, random_state=12345)\n",
    "\n",
    "# We assign the characteristics and targets in each set\n",
    "features_train = df_train.drop(['is_ultra'], axis=1)\n",
    "target_train = df_train['is_ultra']\n",
    "features_valid = df_valid.drop(['is_ultra'], axis=1)\n",
    "target_valid = df_valid['is_ultra']\n",
    "features_test = df_test.drop(['is_ultra'], axis=1)\n",
    "target_test = df_test['is_ultra']"
   ]
  },
  {
   "cell_type": "markdown",
   "metadata": {},
   "source": [
    "<div class=\"alert alert-block alert-success\">\n",
    "<b>Comentario del revisor (1ra Iteracion)</b> <a class=“tocSkip”></a>\n",
    "\n",
    "Muy bien, realizaste la división de los datos de manera correcta, recuerda siempre este paso ya que para validar que un modelo está entrenando de manera correcta hay que tener un conjunto de prueba \n",
    "</div>"
   ]
  },
  {
   "cell_type": "markdown",
   "metadata": {},
   "source": [
    "### Training different models with different hyperparameters <a id='training_models'></a>"
   ]
  },
  {
   "cell_type": "code",
   "execution_count": 6,
   "metadata": {},
   "outputs": [
    {
     "name": "stdout",
     "output_type": "stream",
     "text": [
      "max_depth = 1 : 0.7542768273716952\n",
      "max_depth = 2 : 0.7822706065318819\n",
      "max_depth = 3 : 0.7853810264385692\n",
      "max_depth = 4 : 0.7791601866251944\n",
      "max_depth = 5 : 0.7791601866251944\n",
      "max_depth = 6 : 0.7838258164852255\n",
      "max_depth = 7 : 0.7822706065318819\n",
      "max_depth = 8 : 0.7791601866251944\n",
      "max_depth = 9 : 0.7822706065318819\n",
      "max_depth = 10 : 0.7744945567651633\n"
     ]
    }
   ],
   "source": [
    "# Decision three classifier model\n",
    "\n",
    "for depth in range(1, 11):\n",
    "    three_model = DecisionTreeClassifier(random_state=12345, max_depth=depth)\n",
    "    three_model.fit(features_train, target_train)\n",
    "    predictions_three_valid = three_model.predict(features_valid)\n",
    "    print(\"max_depth =\", depth, \": \", end='')\n",
    "    print(accuracy_score(target_valid, predictions_three_valid))\n",
    "    "
   ]
  },
  {
   "cell_type": "code",
   "execution_count": 7,
   "metadata": {},
   "outputs": [
    {
     "name": "stdout",
     "output_type": "stream",
     "text": [
      "The accuracy of the best model on the validation set (n_estimators = 23): 0.7947122861586314\n"
     ]
    }
   ],
   "source": [
    "# Random Forest classifier model\n",
    "\n",
    "best_score = 0\n",
    "best_est = 0\n",
    "for est in range(1, 100): # selecciona el rango del hiperparámetro\n",
    "    forest_model = RandomForestClassifier(random_state=12345, n_estimators=est) # configura el número de árboles\n",
    "    forest_model.fit(features_train,target_train) # entrena el modelo en el conjunto de entrenamiento\n",
    "    score = forest_model.score(features_valid, target_valid) # calcula la puntuación de accuracy en el conjunto de validación\n",
    "    if score > best_score:\n",
    "        best_score = score# guarda la mejor puntuación de accuracy en el conjunto de validación\n",
    "        best_est = est# guarda el número de estimadores que corresponden a la mejor puntuación de exactitud\n",
    "\n",
    "print(\"The accuracy of the best model on the validation set (n_estimators = {}): {}\".format(best_est, best_score))"
   ]
  },
  {
   "cell_type": "code",
   "execution_count": 8,
   "metadata": {},
   "outputs": [
    {
     "name": "stdout",
     "output_type": "stream",
     "text": [
      "max_iter = 50 : 0.7107309486780715\n",
      "max_iter = 60 : 0.7107309486780715\n",
      "max_iter = 70 : 0.7107309486780715\n",
      "max_iter = 100 : 0.7107309486780715\n"
     ]
    }
   ],
   "source": [
    "# Logistic regresion model\n",
    "max_iter = [50,60,70,100]\n",
    "for iter_num in max_iter:\n",
    "    logistic_model = LogisticRegression(random_state=12345, max_iter=iter_num)\n",
    "    logistic_model.fit(features_train, target_train)\n",
    "    logistic_predictions = logistic_model.predict(features_valid)\n",
    "    logistic_accuracy = accuracy_score(target_valid, logistic_predictions)\n",
    "    print(\"max_iter =\", iter_num, \": \", end='')\n",
    "    print(logistic_accuracy)"
   ]
  },
  {
   "cell_type": "markdown",
   "metadata": {},
   "source": [
    "**Observations**\n",
    "\n",
    "1. When training the three models (decision tree, random forests and logistic regression) we realize that the best accuracy value is obtained with random forests with 23 estimators, reaching 79.47% accuracy in the prediction, which exceeds the objective.\n",
    "2. The second best model is decision tree with 78.53% accuracy in prediction which is still better than the target\n",
    "3. Finally, Logistic regresion with 71.07% which is less than desired\n",
    "4. However, we will do some extra analysis by changing other hyperparameters by creating a grid with different hyperparameters for random forests and see if it has any improvement."
   ]
  },
  {
   "cell_type": "markdown",
   "metadata": {},
   "source": [
    "### Finding the best model with the best hyperparameters <a id='best_model'></a>"
   ]
  },
  {
   "cell_type": "code",
   "execution_count": 9,
   "metadata": {},
   "outputs": [
    {
     "name": "stdout",
     "output_type": "stream",
     "text": [
      "Accuracy of the Best Model (Random Forest): 0.7978\n"
     ]
    }
   ],
   "source": [
    "# Finding the best model with differents hyperparameters\n",
    "\n",
    "param_grid = {\n",
    "    'n_estimators': [10, 50, 100],\n",
    "    'max_depth': [None, 10, 20, 30],\n",
    "    'min_samples_split': [2, 5, 10]\n",
    "}\n",
    "\n",
    "grid_search = GridSearchCV(forest_model, param_grid, cv=5, n_jobs=-1, scoring='accuracy')\n",
    "grid_search.fit(features_train, target_train)\n",
    "\n",
    "best_model = grid_search.best_estimator_\n",
    "best_predictions = best_model.predict(features_valid)\n",
    "best_accuracy = accuracy_score(target_valid, best_predictions)\n",
    "print(f'Accuracy of the Best Model (Random Forest): {best_accuracy:.4f}')"
   ]
  },
  {
   "cell_type": "markdown",
   "metadata": {},
   "source": [
    "**Observation** \n",
    "\n",
    "The accuracy was improved, although only slightly, but this will help when making the prediction with the test data."
   ]
  },
  {
   "cell_type": "markdown",
   "metadata": {},
   "source": [
    "### Evaluating the best model with test set <a id='evaluation'></a>"
   ]
  },
  {
   "cell_type": "code",
   "execution_count": 10,
   "metadata": {},
   "outputs": [
    {
     "name": "stdout",
     "output_type": "stream",
     "text": [
      "Accuracy of the Best Model on the Test Set: 0.8040\n"
     ]
    }
   ],
   "source": [
    "# Evaluate the best model on the test set\n",
    "\n",
    "test_predictions = best_model.predict(features_test)\n",
    "test_accuracy = accuracy_score(target_test, test_predictions)\n",
    "print(f'Accuracy of the Best Model on the Test Set: {test_accuracy:.4f}')"
   ]
  },
  {
   "cell_type": "markdown",
   "metadata": {},
   "source": [
    "**Observation**\n",
    "\n",
    "1. A little over 80% accuracy is achieved in class prediction, which tells us that our model works well. Of course, this can always be improved; however, it is a better value than expected."
   ]
  },
  {
   "cell_type": "markdown",
   "metadata": {},
   "source": [
    "## Step 4. Sanity check <a id='sanity_check'></a>"
   ]
  },
  {
   "cell_type": "code",
   "execution_count": 11,
   "metadata": {},
   "outputs": [
    {
     "name": "stdout",
     "output_type": "stream",
     "text": [
      "Accuracy of the Dummy Model: 0.6843\n"
     ]
    }
   ],
   "source": [
    "# Sanity check: Compare with a \"dummy\" classifier that always predicts the majority class\n",
    "\n",
    "dummy_model = DummyClassifier(strategy=\"most_frequent\")\n",
    "dummy_model.fit(features_train, target_train)\n",
    "dummy_predictions = dummy_model.predict(features_test)\n",
    "dummy_accuracy = accuracy_score(target_test, dummy_predictions)\n",
    "print(f'Accuracy of the Dummy Model: {dummy_accuracy:.4f}')"
   ]
  },
  {
   "cell_type": "markdown",
   "metadata": {},
   "source": [
    "## Conclusion. <a id='end'></a>"
   ]
  },
  {
   "cell_type": "markdown",
   "metadata": {},
   "source": [
    "1. The trained model exceeded the project objective\n",
    "2.  The best model was obtained with random forests and better hyperparameters were calculated using GridSearchCV, which led to a small improvement.\n",
    "3. The second best model was obtained with decision trees and the third with logistic regression.\n",
    "4. There is very little chance of overfitting due to the characteristics of random forests\n",
    "5. As a sanity check, the trained model was compared to a dummy model to ensure that the trained model performs significantly better than one that always predicts the majority class.\n",
    "6. The model achieved 80.4% accuracy in testing; however, we could improve by standardizing the data, using more sophisticated models, more accurate hyperparameter calculations, more data collection, etc."
   ]
  },
  {
   "cell_type": "markdown",
   "metadata": {},
   "source": [
    "<div class=\"alert alert-block alert-info\">\n",
    "<b>Comentario general (1ra Iteracion)</b> <a class=“tocSkip”></a>\n",
    "\n",
    "Hiciste un muy buen trabajo Hans! Entrenaste los modelos de la manera correcta y para tus próximos proyectos relacionados con Machine Learning te recomiendo realizar primero un EDA de tus datos y redactar las conclusiones con tu interpretación de los resultados tanto del EDA como de los modelos.\n",
    "<br>\n",
    "<br>\n",
    "    \n",
    "Por el resto lo hiciste super bien, probaste varios hiperparametros en tus modelos lo cual ayuda mucho para evaluar diferentes entrenamientos y mejorar el performance de los modelos.\n",
    "    \n",
    "    \n",
    "Saludos!\n",
    "</div>"
   ]
  }
 ],
 "metadata": {
  "ExecuteTimeLog": [
   {
    "duration": 2565,
    "start_time": "2024-09-01T22:08:02.036Z"
   },
   {
    "duration": 579,
    "start_time": "2024-09-01T22:08:04.603Z"
   },
   {
    "duration": 0,
    "start_time": "2024-09-01T22:08:05.184Z"
   },
   {
    "duration": 59,
    "start_time": "2024-09-01T22:19:03.271Z"
   },
   {
    "duration": 4,
    "start_time": "2024-09-01T22:20:42.781Z"
   },
   {
    "duration": 3,
    "start_time": "2024-09-01T22:21:09.674Z"
   },
   {
    "duration": 4,
    "start_time": "2024-09-01T22:21:20.568Z"
   },
   {
    "duration": 4,
    "start_time": "2024-09-01T22:22:30.722Z"
   },
   {
    "duration": 4,
    "start_time": "2024-09-01T22:30:38.928Z"
   },
   {
    "duration": 3,
    "start_time": "2024-09-01T22:30:42.406Z"
   },
   {
    "duration": 3,
    "start_time": "2024-09-01T22:31:09.854Z"
   },
   {
    "duration": 59,
    "start_time": "2024-09-01T22:31:32.830Z"
   },
   {
    "duration": 14,
    "start_time": "2024-09-01T22:32:14.349Z"
   },
   {
    "duration": 26,
    "start_time": "2024-09-01T22:32:18.462Z"
   },
   {
    "duration": 14,
    "start_time": "2024-09-02T04:43:11.711Z"
   },
   {
    "duration": 10,
    "start_time": "2024-09-02T04:43:27.639Z"
   },
   {
    "duration": 5,
    "start_time": "2024-09-02T04:44:15.975Z"
   },
   {
    "duration": 156,
    "start_time": "2024-09-02T23:03:53.222Z"
   },
   {
    "duration": 2679,
    "start_time": "2024-09-02T23:04:01.259Z"
   },
   {
    "duration": 19,
    "start_time": "2024-09-02T23:04:03.940Z"
   },
   {
    "duration": 24,
    "start_time": "2024-09-02T23:04:03.961Z"
   },
   {
    "duration": 5,
    "start_time": "2024-09-02T23:04:03.987Z"
   },
   {
    "duration": 12,
    "start_time": "2024-09-02T23:04:03.993Z"
   },
   {
    "duration": 87,
    "start_time": "2024-09-02T23:04:04.006Z"
   },
   {
    "duration": 18,
    "start_time": "2024-09-02T23:05:13.389Z"
   },
   {
    "duration": 4,
    "start_time": "2024-09-02T23:05:21.619Z"
   },
   {
    "duration": 18,
    "start_time": "2024-09-02T23:05:27.970Z"
   },
   {
    "duration": 59,
    "start_time": "2024-09-02T23:05:43.008Z"
   },
   {
    "duration": 98,
    "start_time": "2024-09-02T23:06:23.746Z"
   },
   {
    "duration": 131,
    "start_time": "2024-09-02T23:06:56.016Z"
   },
   {
    "duration": 52,
    "start_time": "2024-09-02T23:07:05.271Z"
   },
   {
    "duration": 55,
    "start_time": "2024-09-02T23:07:12.013Z"
   },
   {
    "duration": 203,
    "start_time": "2024-09-02T23:13:26.165Z"
   },
   {
    "duration": 32,
    "start_time": "2024-09-02T23:14:15.951Z"
   },
   {
    "duration": 654,
    "start_time": "2024-09-02T23:14:25.957Z"
   },
   {
    "duration": 163,
    "start_time": "2024-09-03T18:38:07.026Z"
   },
   {
    "duration": 3,
    "start_time": "2024-09-03T18:38:14.085Z"
   },
   {
    "duration": 15,
    "start_time": "2024-09-03T18:38:14.090Z"
   },
   {
    "duration": 26,
    "start_time": "2024-09-03T18:38:14.107Z"
   },
   {
    "duration": 5,
    "start_time": "2024-09-03T18:38:14.134Z"
   },
   {
    "duration": 7,
    "start_time": "2024-09-03T18:38:14.140Z"
   },
   {
    "duration": 81,
    "start_time": "2024-09-03T18:38:14.149Z"
   },
   {
    "duration": 640,
    "start_time": "2024-09-03T18:38:14.231Z"
   },
   {
    "duration": 92,
    "start_time": "2024-09-03T18:38:14.874Z"
   },
   {
    "duration": 84,
    "start_time": "2024-09-03T18:40:20.872Z"
   },
   {
    "duration": 115,
    "start_time": "2024-09-03T18:41:16.468Z"
   },
   {
    "duration": 70,
    "start_time": "2024-09-03T18:41:53.721Z"
   },
   {
    "duration": 65,
    "start_time": "2024-09-03T18:42:02.147Z"
   },
   {
    "duration": 59,
    "start_time": "2024-09-03T18:42:09.455Z"
   },
   {
    "duration": 84,
    "start_time": "2024-09-03T18:42:32.783Z"
   },
   {
    "duration": 70,
    "start_time": "2024-09-03T18:43:04.396Z"
   },
   {
    "duration": 40,
    "start_time": "2024-09-03T18:43:13.965Z"
   },
   {
    "duration": 49,
    "start_time": "2024-09-03T18:43:23.467Z"
   },
   {
    "duration": 47,
    "start_time": "2024-09-03T18:43:26.867Z"
   },
   {
    "duration": 49,
    "start_time": "2024-09-03T18:43:30.209Z"
   },
   {
    "duration": 51,
    "start_time": "2024-09-03T18:43:46.859Z"
   },
   {
    "duration": 59,
    "start_time": "2024-09-03T18:44:21.859Z"
   },
   {
    "duration": 38,
    "start_time": "2024-09-03T18:44:50.728Z"
   },
   {
    "duration": 40,
    "start_time": "2024-09-03T18:44:54.031Z"
   },
   {
    "duration": 40,
    "start_time": "2024-09-03T18:44:57.006Z"
   },
   {
    "duration": 41,
    "start_time": "2024-09-03T18:44:59.836Z"
   },
   {
    "duration": 39,
    "start_time": "2024-09-03T18:45:17.712Z"
   },
   {
    "duration": 946,
    "start_time": "2024-09-03T19:07:57.114Z"
   },
   {
    "duration": 10,
    "start_time": "2024-09-03T19:07:58.063Z"
   },
   {
    "duration": 27,
    "start_time": "2024-09-03T19:07:59.555Z"
   },
   {
    "duration": 7,
    "start_time": "2024-09-03T19:08:02.736Z"
   },
   {
    "duration": 70,
    "start_time": "2024-09-03T19:08:04.431Z"
   },
   {
    "duration": 62,
    "start_time": "2024-09-03T19:08:05.111Z"
   },
   {
    "duration": 16338,
    "start_time": "2024-09-03T19:08:47.355Z"
   },
   {
    "duration": 83,
    "start_time": "2024-09-03T19:09:53.162Z"
   },
   {
    "duration": 232,
    "start_time": "2024-09-03T19:09:55.430Z"
   },
   {
    "duration": 4,
    "start_time": "2024-09-03T19:10:36.491Z"
   },
   {
    "duration": 24231,
    "start_time": "2024-09-03T19:10:41.858Z"
   },
   {
    "duration": 15703,
    "start_time": "2024-09-03T19:13:16.418Z"
   },
   {
    "duration": 4,
    "start_time": "2024-09-03T19:14:41.696Z"
   },
   {
    "duration": 8,
    "start_time": "2024-09-03T19:14:42.363Z"
   },
   {
    "duration": 28,
    "start_time": "2024-09-03T19:14:43.272Z"
   },
   {
    "duration": 6,
    "start_time": "2024-09-03T19:14:44.863Z"
   },
   {
    "duration": 8,
    "start_time": "2024-09-03T19:14:46.168Z"
   },
   {
    "duration": 57,
    "start_time": "2024-09-03T19:14:47.082Z"
   },
   {
    "duration": 15813,
    "start_time": "2024-09-03T19:14:52.781Z"
   },
   {
    "duration": 4,
    "start_time": "2024-09-03T19:22:16.211Z"
   },
   {
    "duration": 4,
    "start_time": "2024-09-03T19:22:17.613Z"
   },
   {
    "duration": 8,
    "start_time": "2024-09-03T19:22:18.446Z"
   },
   {
    "duration": 23,
    "start_time": "2024-09-03T19:22:18.892Z"
   },
   {
    "duration": 6,
    "start_time": "2024-09-03T19:22:20.843Z"
   },
   {
    "duration": 26,
    "start_time": "2024-09-03T19:22:22.984Z"
   },
   {
    "duration": 124,
    "start_time": "2024-09-03T19:23:00.936Z"
   },
   {
    "duration": 25,
    "start_time": "2024-09-03T19:33:39.180Z"
   },
   {
    "duration": 19,
    "start_time": "2024-09-03T19:34:05.691Z"
   },
   {
    "duration": 16,
    "start_time": "2024-09-03T19:34:14.013Z"
   },
   {
    "duration": 4,
    "start_time": "2024-09-03T19:34:25.405Z"
   },
   {
    "duration": 4,
    "start_time": "2024-09-03T19:34:26.244Z"
   },
   {
    "duration": 9,
    "start_time": "2024-09-03T19:34:26.840Z"
   },
   {
    "duration": 28,
    "start_time": "2024-09-03T19:34:27.109Z"
   },
   {
    "duration": 6,
    "start_time": "2024-09-03T19:34:28.112Z"
   },
   {
    "duration": 20,
    "start_time": "2024-09-03T19:34:29.621Z"
   },
   {
    "duration": 11,
    "start_time": "2024-09-03T19:34:48.677Z"
   },
   {
    "duration": 8,
    "start_time": "2024-09-03T19:35:25.737Z"
   },
   {
    "duration": 273,
    "start_time": "2024-09-03T19:43:45.669Z"
   },
   {
    "duration": 17,
    "start_time": "2024-09-03T19:44:24.424Z"
   },
   {
    "duration": 12,
    "start_time": "2024-09-03T19:44:30.532Z"
   },
   {
    "duration": 31,
    "start_time": "2024-09-03T19:44:54.853Z"
   },
   {
    "duration": 39,
    "start_time": "2024-09-03T19:47:00.765Z"
   },
   {
    "duration": 26,
    "start_time": "2024-09-03T19:47:27.245Z"
   },
   {
    "duration": 32,
    "start_time": "2024-09-03T19:47:46.241Z"
   },
   {
    "duration": 4,
    "start_time": "2024-09-03T19:48:00.327Z"
   },
   {
    "duration": 7,
    "start_time": "2024-09-03T19:48:00.968Z"
   },
   {
    "duration": 23,
    "start_time": "2024-09-03T19:48:01.136Z"
   },
   {
    "duration": 6,
    "start_time": "2024-09-03T19:48:02.052Z"
   },
   {
    "duration": 31,
    "start_time": "2024-09-03T19:48:04.871Z"
   },
   {
    "duration": 3,
    "start_time": "2024-09-03T19:48:46.981Z"
   },
   {
    "duration": 3,
    "start_time": "2024-09-03T19:48:50.518Z"
   },
   {
    "duration": 7,
    "start_time": "2024-09-03T19:48:51.672Z"
   },
   {
    "duration": 23,
    "start_time": "2024-09-03T19:48:51.870Z"
   },
   {
    "duration": 6,
    "start_time": "2024-09-03T19:48:52.864Z"
   },
   {
    "duration": 3,
    "start_time": "2024-09-03T19:48:55.639Z"
   },
   {
    "duration": 5,
    "start_time": "2024-09-03T19:49:06.185Z"
   },
   {
    "duration": 5,
    "start_time": "2024-09-03T19:49:55.634Z"
   },
   {
    "duration": 6,
    "start_time": "2024-09-03T19:50:07.830Z"
   },
   {
    "duration": 105,
    "start_time": "2024-09-03T19:52:23.531Z"
   },
   {
    "duration": 6,
    "start_time": "2024-09-03T19:52:52.138Z"
   },
   {
    "duration": 4,
    "start_time": "2024-09-03T19:53:03.953Z"
   },
   {
    "duration": 6,
    "start_time": "2024-09-03T19:53:27.839Z"
   },
   {
    "duration": 288,
    "start_time": "2024-09-03T19:53:39.430Z"
   },
   {
    "duration": 4,
    "start_time": "2024-09-03T19:53:52.942Z"
   },
   {
    "duration": 7,
    "start_time": "2024-09-03T19:53:53.389Z"
   },
   {
    "duration": 23,
    "start_time": "2024-09-03T19:53:53.605Z"
   },
   {
    "duration": 6,
    "start_time": "2024-09-03T19:53:55.170Z"
   },
   {
    "duration": 9,
    "start_time": "2024-09-03T19:53:57.365Z"
   },
   {
    "duration": 60,
    "start_time": "2024-09-03T19:55:05.530Z"
   },
   {
    "duration": 5,
    "start_time": "2024-09-03T19:55:09.475Z"
   },
   {
    "duration": 6,
    "start_time": "2024-09-03T19:55:10.142Z"
   },
   {
    "duration": 26,
    "start_time": "2024-09-03T19:55:10.449Z"
   },
   {
    "duration": 5,
    "start_time": "2024-09-03T19:55:11.914Z"
   },
   {
    "duration": 5,
    "start_time": "2024-09-03T19:55:13.837Z"
   },
   {
    "duration": 10,
    "start_time": "2024-09-03T19:55:14.877Z"
   },
   {
    "duration": 3,
    "start_time": "2024-09-03T19:55:33.138Z"
   },
   {
    "duration": 6,
    "start_time": "2024-09-03T19:55:33.599Z"
   },
   {
    "duration": 23,
    "start_time": "2024-09-03T19:55:33.830Z"
   },
   {
    "duration": 5,
    "start_time": "2024-09-03T19:55:34.801Z"
   },
   {
    "duration": 4,
    "start_time": "2024-09-03T19:55:36.387Z"
   },
   {
    "duration": 9,
    "start_time": "2024-09-03T19:55:37.122Z"
   },
   {
    "duration": 92,
    "start_time": "2024-09-03T19:55:52.069Z"
   },
   {
    "duration": 4,
    "start_time": "2024-09-03T19:56:46.654Z"
   },
   {
    "duration": 7,
    "start_time": "2024-09-03T19:56:46.990Z"
   },
   {
    "duration": 23,
    "start_time": "2024-09-03T19:56:47.143Z"
   },
   {
    "duration": 5,
    "start_time": "2024-09-03T19:56:47.741Z"
   },
   {
    "duration": 8,
    "start_time": "2024-09-03T19:56:49.576Z"
   },
   {
    "duration": 69,
    "start_time": "2024-09-03T19:56:50.843Z"
   },
   {
    "duration": 15274,
    "start_time": "2024-09-03T19:56:52.351Z"
   },
   {
    "duration": 50,
    "start_time": "2024-09-03T19:57:07.627Z"
   },
   {
    "duration": 22938,
    "start_time": "2024-09-03T19:57:07.686Z"
   },
   {
    "duration": 10,
    "start_time": "2024-09-03T19:59:38.269Z"
   },
   {
    "duration": 5,
    "start_time": "2024-09-03T20:00:11.028Z"
   },
   {
    "duration": 158,
    "start_time": "2024-09-04T06:00:50.454Z"
   },
   {
    "duration": 2587,
    "start_time": "2024-09-04T06:01:01.362Z"
   },
   {
    "duration": 15,
    "start_time": "2024-09-04T06:01:03.951Z"
   },
   {
    "duration": 26,
    "start_time": "2024-09-04T06:01:03.967Z"
   },
   {
    "duration": 13,
    "start_time": "2024-09-04T06:01:03.995Z"
   },
   {
    "duration": 7,
    "start_time": "2024-09-04T06:01:04.010Z"
   },
   {
    "duration": 56,
    "start_time": "2024-09-04T06:01:04.018Z"
   },
   {
    "duration": 15059,
    "start_time": "2024-09-04T06:01:04.654Z"
   },
   {
    "duration": 49,
    "start_time": "2024-09-04T06:01:19.715Z"
   },
   {
    "duration": 23454,
    "start_time": "2024-09-04T06:01:19.766Z"
   },
   {
    "duration": 7,
    "start_time": "2024-09-04T06:01:47.408Z"
   },
   {
    "duration": 23733,
    "start_time": "2024-09-04T06:01:54.990Z"
   },
   {
    "duration": 9,
    "start_time": "2024-09-04T06:04:21.289Z"
   },
   {
    "duration": 4,
    "start_time": "2024-09-04T06:04:43.580Z"
   },
   {
    "duration": 3,
    "start_time": "2024-09-04T06:26:54.640Z"
   },
   {
    "duration": 8,
    "start_time": "2024-09-04T06:26:56.485Z"
   },
   {
    "duration": 23,
    "start_time": "2024-09-04T06:26:57.201Z"
   },
   {
    "duration": 5,
    "start_time": "2024-09-04T06:26:59.937Z"
   },
   {
    "duration": 7,
    "start_time": "2024-09-04T06:27:07.441Z"
   },
   {
    "duration": 54,
    "start_time": "2024-09-04T06:27:14.477Z"
   },
   {
    "duration": 15084,
    "start_time": "2024-09-04T06:27:17.947Z"
   },
   {
    "duration": 50,
    "start_time": "2024-09-04T06:27:33.034Z"
   },
   {
    "duration": 23043,
    "start_time": "2024-09-04T06:27:41.227Z"
   },
   {
    "duration": 9,
    "start_time": "2024-09-04T06:28:12.466Z"
   },
   {
    "duration": 4,
    "start_time": "2024-09-04T06:28:16.226Z"
   },
   {
    "duration": 887,
    "start_time": "2024-09-05T04:23:02.327Z"
   },
   {
    "duration": 19,
    "start_time": "2024-09-05T04:23:03.216Z"
   },
   {
    "duration": 27,
    "start_time": "2024-09-05T04:23:03.237Z"
   },
   {
    "duration": 70,
    "start_time": "2024-09-05T04:23:03.266Z"
   },
   {
    "duration": 10,
    "start_time": "2024-09-05T04:23:03.339Z"
   },
   {
    "duration": 89,
    "start_time": "2024-09-05T04:23:03.351Z"
   },
   {
    "duration": 15544,
    "start_time": "2024-09-05T04:23:03.442Z"
   },
   {
    "duration": 75,
    "start_time": "2024-09-05T04:23:18.987Z"
   },
   {
    "duration": 24683,
    "start_time": "2024-09-05T04:23:19.064Z"
   },
   {
    "duration": 11,
    "start_time": "2024-09-05T04:23:43.749Z"
   },
   {
    "duration": 4,
    "start_time": "2024-09-05T04:23:43.762Z"
   }
  ],
  "kernelspec": {
   "display_name": "Python [conda env:base] *",
   "language": "python",
   "name": "conda-base-py"
  },
  "language_info": {
   "codemirror_mode": {
    "name": "ipython",
    "version": 3
   },
   "file_extension": ".py",
   "mimetype": "text/x-python",
   "name": "python",
   "nbconvert_exporter": "python",
   "pygments_lexer": "ipython3",
   "version": "3.12.7"
  },
  "toc": {
   "base_numbering": 1,
   "nav_menu": {},
   "number_sections": true,
   "sideBar": true,
   "skip_h1_title": true,
   "title_cell": "Table of Contents",
   "title_sidebar": "Contents",
   "toc_cell": false,
   "toc_position": {
    "height": "calc(100% - 180px)",
    "left": "10px",
    "top": "150px",
    "width": "225.4px"
   },
   "toc_section_display": true,
   "toc_window_display": true
  }
 },
 "nbformat": 4,
 "nbformat_minor": 4
}
